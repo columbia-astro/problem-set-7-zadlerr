{
 "cells": [
  {
   "cell_type": "markdown",
   "metadata": {
    "collapsed": true
   },
   "source": [
    "## Zachary Adler\n",
    "\n",
    "zpa2001 \n",
    "\n",
    "Problem Set 7"
   ]
  },
  {
   "cell_type": "code",
   "execution_count": 2,
   "metadata": {
    "collapsed": true
   },
   "outputs": [],
   "source": [
    "#ALL IMPORT STATEMENTS\n",
    "import math\n",
    "import matplotlib.pyplot as plt\n",
    "import numpy as np\n",
    "from scipy.integrate import quad\n",
    "from scipy.special import gammaincc\n",
    "import kplr\n",
    "import my_transit as mt"
   ]
  },
  {
   "cell_type": "markdown",
   "metadata": {},
   "source": [
    "Sample code for problem 7 -- first, use kplr to read in the data"
   ]
  },
  {
   "cell_type": "code",
   "execution_count": 3,
   "metadata": {
    "collapsed": true
   },
   "outputs": [],
   "source": [
    "# Find the target KOI.\n",
    "client = kplr.API()\n",
    "koi = client.koi(97.01)\n",
    "\n",
    "# Get a list of light curve datasets.\n",
    "lcs = koi.get_light_curves(short_cadence=False)\n",
    "\n",
    "# Open the first dataset and read it\n",
    "f = lcs[0].open()\n",
    "hdu_data = f[1].data\n",
    "f.close()"
   ]
  },
  {
   "cell_type": "markdown",
   "metadata": {},
   "source": [
    "Next, define func1 and func2, which are the two functions to be integrated to compute the flux theory curve (which is the ratio of the integral(func1)/integral(func2))."
   ]
  },
  {
   "cell_type": "code",
   "execution_count": 4,
   "metadata": {
    "collapsed": true
   },
   "outputs": [],
   "source": [
    "def I(r):\n",
    "    '''A Limb-darkening function'''\n",
    "    mu = (1 - (r**2))**(0.5)\n",
    "    return 1 - (1 - (mu**(0.5)))\n",
    "\n",
    "def func1(r, p, z):\n",
    "    return I(r) * (1 - mt.delta(p,r,abs(z))) * 2 * r\n",
    "\n",
    "def func2(r, p, z):\n",
    "    return I(r) * 2 * r"
   ]
  },
  {
   "cell_type": "code",
   "execution_count": 5,
   "metadata": {},
   "outputs": [
    {
     "data": {
      "text/plain": [
       "ColDefs(\n",
       "    name = 'TIME'; format = 'D'; unit = 'BJD - 2454833'; disp = 'D14.7'\n",
       "    name = 'TIMECORR'; format = 'E'; unit = 'd'; disp = 'E13.6'\n",
       "    name = 'CADENCENO'; format = 'J'; disp = 'I10'\n",
       "    name = 'SAP_FLUX'; format = 'E'; unit = 'e-/s'; disp = 'E14.7'\n",
       "    name = 'SAP_FLUX_ERR'; format = 'E'; unit = 'e-/s'; disp = 'E14.7'\n",
       "    name = 'SAP_BKG'; format = 'E'; unit = 'e-/s'; disp = 'E14.7'\n",
       "    name = 'SAP_BKG_ERR'; format = 'E'; unit = 'e-/s'; disp = 'E14.7'\n",
       "    name = 'PDCSAP_FLUX'; format = 'E'; unit = 'e-/s'; disp = 'E14.7'\n",
       "    name = 'PDCSAP_FLUX_ERR'; format = 'E'; unit = 'e-/s'; disp = 'E14.7'\n",
       "    name = 'SAP_QUALITY'; format = 'J'; disp = 'B16.16'\n",
       "    name = 'PSF_CENTR1'; format = 'D'; unit = 'pixel'; disp = 'F10.5'\n",
       "    name = 'PSF_CENTR1_ERR'; format = 'E'; unit = 'pixel'; disp = 'E14.7'\n",
       "    name = 'PSF_CENTR2'; format = 'D'; unit = 'pixel'; disp = 'F10.5'\n",
       "    name = 'PSF_CENTR2_ERR'; format = 'E'; unit = 'pixel'; disp = 'E14.7'\n",
       "    name = 'MOM_CENTR1'; format = 'D'; unit = 'pixel'; disp = 'F10.5'\n",
       "    name = 'MOM_CENTR1_ERR'; format = 'E'; unit = 'pixel'; disp = 'E14.7'\n",
       "    name = 'MOM_CENTR2'; format = 'D'; unit = 'pixel'; disp = 'F10.5'\n",
       "    name = 'MOM_CENTR2_ERR'; format = 'E'; unit = 'pixel'; disp = 'E14.7'\n",
       "    name = 'POS_CORR1'; format = 'E'; unit = 'pixels'; disp = 'E14.7'\n",
       "    name = 'POS_CORR2'; format = 'E'; unit = 'pixels'; disp = 'E14.7'\n",
       ")"
      ]
     },
     "execution_count": 5,
     "metadata": {},
     "output_type": "execute_result"
    }
   ],
   "source": [
    "#these are the names of the 'keys' in the astropy.io.fits.fitsrec.FITS_rec object 'hdu_data'\n",
    "#I'll be using SAP_FLUX, SAP_FLUX_ERR, AND TIME\n",
    "hdu_data.columns"
   ]
  },
  {
   "cell_type": "markdown",
   "metadata": {},
   "source": [
    "### Problem 1"
   ]
  },
  {
   "cell_type": "code",
   "execution_count": 6,
   "metadata": {},
   "outputs": [
    {
     "name": "stdout",
     "output_type": "stream",
     "text": [
      "Chi Squared =  465.198692421\n"
     ]
    }
   ],
   "source": [
    "#'First, extract the data in the time range 124 < t < 125'\n",
    "idx = np.where((hdu_data[\"time\"] > 124) & (hdu_data[\"time\"] < 125))\n",
    "t = hdu_data[\"time\"][idx]\n",
    "flux = hdu_data[\"sap_flux\"][idx]\n",
    "err = hdu_data[\"sap_flux_err\"][idx]\n",
    "\n",
    "#'we will need to normalize the stellar flux'\n",
    "#compute clipped mean, range 5 cuz 'do it 5 times'\n",
    "def clipMean(x):\n",
    "    for _ in range(5):\n",
    "        x = x[np.where(abs(x - x.mean()) < 2*x.std())]\n",
    "    return x.mean()\n",
    "\n",
    "fNorm = clipMean(flux)\n",
    "fRatioObs = flux/fNorm\n",
    "fErr = err/fNorm\n",
    "\n",
    "# Guess 'fitting' values\n",
    "t0 = 124.51 #half way in between 124 & 125\n",
    "p = 0.0775\n",
    "tau = 0.1\n",
    "\n",
    "#compute light curve\n",
    "def compLightCur(t,p,t0,tau):\n",
    "    #change t to z and predict transit curve\n",
    "    z = (t-t0)/tau\n",
    "    ret = []\n",
    "    for val in z: \n",
    "        fobs, fobs_err = quad(func1, 0.0, 1.0, args=(p,val))\n",
    "        funobs, fobs_err = quad(func2, 0.0, 1.0, args=(p,val))\n",
    "        ret.append(fobs/funobs)\n",
    "    return np.array(ret)\n",
    "\n",
    "flux_exp = compLightCur(t, p, t0, tau)\n",
    "\n",
    "def chiSquared(obs, exp, sig):\n",
    "    return np.sum(((obs-exp)/sig)**2)\n",
    "\n",
    "chi = chiSquared(fRatioObs, flux_exp, fErr)\n",
    "print ('Chi Squared = ', chi)"
   ]
  },
  {
   "cell_type": "markdown",
   "metadata": {
    "collapsed": true
   },
   "source": [
    "### Problem 2"
   ]
  },
  {
   "cell_type": "code",
   "execution_count": 7,
   "metadata": {},
   "outputs": [
    {
     "data": {
      "image/png": "[encoded data removed]",
      "text/plain": [
       "<matplotlib.figure.Figure at 0x115be22b0>"
      ]
     },
     "metadata": {},
     "output_type": "display_data"
    }
   ],
   "source": [
    "fig = plt.figure()\n",
    "ax = fig.add_subplot(111)\n",
    "ax.errorbar(t, fRatioObs, yerr=fErr, fmt='x')\n",
    "ax.plot(t, flux_exp,'x-')\n",
    "ax.set_xlabel(\"UTC - 2454833 (days)\")\n",
    "ax.set_ylabel(\"Normailzed Flux Ratio\")\n",
    "plt.show()"
   ]
  },
  {
   "cell_type": "markdown",
   "metadata": {},
   "source": [
    "This looks like a decent fit!"
   ]
  },
  {
   "cell_type": "code",
   "execution_count": 9,
   "metadata": {},
   "outputs": [
    {
     "name": "stdout",
     "output_type": "stream",
     "text": [
      "probability of this chi-squared =  1.09886907052e-70\n"
     ]
    }
   ],
   "source": [
    "N= len(flux_exp)\n",
    "M = 3 \n",
    "deg = N - M #N is the number of data points(len(flux_exp)) and M is the number of fitted parameters (3)\n",
    "print (\"probability of this chi-squared = \",gammaincc(deg/2,chi/2))"
   ]
  },
  {
   "cell_type": "markdown",
   "metadata": {},
   "source": [
    "### Problem 3"
   ]
  },
  {
   "cell_type": "code",
   "execution_count": 12,
   "metadata": {},
   "outputs": [
    {
     "data": {
      "image/png": "[encoded data removed]",
      "text/plain": [
       "<matplotlib.figure.Figure at 0x116ceddd8>"
      ]
     },
     "metadata": {},
     "output_type": "display_data"
    }
   ],
   "source": [
    "#Varying Tau, used .105 bc half way between .08 and .13\n",
    "tau_var = np.array([.08,.105,.13])\n",
    "chi2lst = []\n",
    "for new_tau in tau_var:\n",
    "    flux_exp = compLightCur(t, p, t0, new_tau)\n",
    "    chi = chiSquared(fRatioObs, flux_exp, fErr)\n",
    "    chi2lst.append(chi)\n",
    "    \n",
    "fig2 = plt.figure()\n",
    "ax2 = fig2.add_subplot(111)\n",
    "ax2.plot(tau_var, chi2lst)\n",
    "ax2.set_xlabel('Tau')\n",
    "ax2.set_ylabel(\"Chi Squared\")\n",
    "plt.show()"
   ]
  },
  {
   "cell_type": "markdown",
   "metadata": {},
   "source": [
    "Clearly the Tau value of .105 is the smallest tau value."
   ]
  },
  {
   "cell_type": "code",
   "execution_count": 27,
   "metadata": {},
   "outputs": [
    {
     "name": "stdout",
     "output_type": "stream",
     "text": [
      "Chi-Squared of 0.105 = 1131.178118539007\n",
      "probability of this chi-squared =  1.53559163053e-207\n"
     ]
    }
   ],
   "source": [
    "bestFit = np.argmin(chi2lst)\n",
    "chi_best = chi2lst[bestFit]\n",
    "print(\"Chi-Squared of {} = {}\".format(tau_var[bestFit], chi_best))\n",
    "print (\"probability of this chi-squared = \",gammaincc((deg-1)/2, chi2lst[best_fit_index]/2))"
   ]
  }
 ],
 "metadata": {
  "kernelspec": {
   "display_name": "Python 3",
   "language": "python",
   "name": "python3"
  },
  "language_info": {
   "codemirror_mode": {
    "name": "ipython",
    "version": 3
   },
   "file_extension": ".py",
   "mimetype": "text/x-python",
   "name": "python",
   "nbconvert_exporter": "python",
   "pygments_lexer": "ipython3",
   "version": "3.5.4"
  }
 },
 "nbformat": 4,
 "nbformat_minor": 2
}
